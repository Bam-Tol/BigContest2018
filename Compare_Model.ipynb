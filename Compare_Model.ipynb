{
 "cells": [
  {
   "cell_type": "markdown",
   "metadata": {},
   "source": [
    "# 1. Load DataSet"
   ]
  },
  {
   "cell_type": "code",
   "execution_count": 1,
   "metadata": {},
   "outputs": [],
   "source": [
    "import pandas as pd\n",
    "import numpy as np\n",
    "import seaborn as sns"
   ]
  },
  {
   "cell_type": "markdown",
   "metadata": {},
   "source": [
    "# 2. Train"
   ]
  },
  {
   "cell_type": "code",
   "execution_count": 115,
   "metadata": {},
   "outputs": [],
   "source": [
    "result_train = pd.read_csv(\"train_activity_party.csv\")\n",
    "result_test = pd.read_csv(\"test_activity_party.csv\")"
   ]
  },
  {
   "cell_type": "code",
   "execution_count": null,
   "metadata": {},
   "outputs": [],
   "source": [
    "del(result_train[\"Unnamed: 0\"])\n",
    "del(result_test[\"Unnamed: 0\"])"
   ]
  },
  {
   "cell_type": "code",
   "execution_count": 206,
   "metadata": {},
   "outputs": [],
   "source": [
    "result_train_drop_na = result_train.dropna(axis=1)\n",
    "result_test_drop_na = result_test.dropna(axis=1)"
   ]
  },
  {
   "cell_type": "code",
   "execution_count": 208,
   "metadata": {},
   "outputs": [
    {
     "name": "stdout",
     "output_type": "stream",
     "text": [
      "(100000, 335)\n"
     ]
    },
    {
     "data": {
      "text/html": [
       "<div>\n",
       "<style scoped>\n",
       "    .dataframe tbody tr th:only-of-type {\n",
       "        vertical-align: middle;\n",
       "    }\n",
       "\n",
       "    .dataframe tbody tr th {\n",
       "        vertical-align: top;\n",
       "    }\n",
       "\n",
       "    .dataframe thead th {\n",
       "        text-align: right;\n",
       "    }\n",
       "</style>\n",
       "<table border=\"1\" class=\"dataframe\">\n",
       "  <thead>\n",
       "    <tr style=\"text-align: right;\">\n",
       "      <th></th>\n",
       "      <th>wk_min</th>\n",
       "      <th>wk_count</th>\n",
       "      <th>cnt_dt</th>\n",
       "      <th>play_time</th>\n",
       "      <th>npc_exp</th>\n",
       "      <th>npc_hongmun</th>\n",
       "      <th>quest_exp</th>\n",
       "      <th>quest_hongmun</th>\n",
       "      <th>item_hongmun</th>\n",
       "      <th>game_combat_time</th>\n",
       "      <th>...</th>\n",
       "      <th>party_Morning_mean_seconds</th>\n",
       "      <th>party_Noon_mean_seconds</th>\n",
       "      <th>party_Afternoon_mean_seconds</th>\n",
       "      <th>party_Evening_mean_seconds</th>\n",
       "      <th>party_Night_mean_seconds</th>\n",
       "      <th>party_member_solo</th>\n",
       "      <th>party_member_six</th>\n",
       "      <th>party_member_twelve</th>\n",
       "      <th>party_member_big</th>\n",
       "      <th>party_member_irregular</th>\n",
       "    </tr>\n",
       "  </thead>\n",
       "  <tbody>\n",
       "    <tr>\n",
       "      <th>0</th>\n",
       "      <td>7</td>\n",
       "      <td>2</td>\n",
       "      <td>6.000000</td>\n",
       "      <td>3.627488</td>\n",
       "      <td>6.041965</td>\n",
       "      <td>-0.238288</td>\n",
       "      <td>6.825828</td>\n",
       "      <td>4.926936</td>\n",
       "      <td>-0.306354</td>\n",
       "      <td>2.555035</td>\n",
       "      <td>...</td>\n",
       "      <td>155.786561</td>\n",
       "      <td>270.70147</td>\n",
       "      <td>158.115813</td>\n",
       "      <td>217.701954</td>\n",
       "      <td>209.88035</td>\n",
       "      <td>1650.484</td>\n",
       "      <td>77348.468</td>\n",
       "      <td>350.44</td>\n",
       "      <td>0.0</td>\n",
       "      <td>71512.772</td>\n",
       "    </tr>\n",
       "    <tr>\n",
       "      <th>1</th>\n",
       "      <td>1</td>\n",
       "      <td>8</td>\n",
       "      <td>3.125000</td>\n",
       "      <td>-0.660696</td>\n",
       "      <td>-0.231874</td>\n",
       "      <td>-0.290803</td>\n",
       "      <td>-0.250423</td>\n",
       "      <td>-0.487666</td>\n",
       "      <td>-0.306354</td>\n",
       "      <td>-0.569842</td>\n",
       "      <td>...</td>\n",
       "      <td>0.000000</td>\n",
       "      <td>0.00000</td>\n",
       "      <td>0.000000</td>\n",
       "      <td>0.000000</td>\n",
       "      <td>0.00000</td>\n",
       "      <td>0.000</td>\n",
       "      <td>0.000</td>\n",
       "      <td>0.00</td>\n",
       "      <td>0.0</td>\n",
       "      <td>0.000</td>\n",
       "    </tr>\n",
       "    <tr>\n",
       "      <th>2</th>\n",
       "      <td>3</td>\n",
       "      <td>5</td>\n",
       "      <td>2.400000</td>\n",
       "      <td>-0.657060</td>\n",
       "      <td>-0.231703</td>\n",
       "      <td>-0.290803</td>\n",
       "      <td>-0.249534</td>\n",
       "      <td>-0.487666</td>\n",
       "      <td>-0.306354</td>\n",
       "      <td>-0.569130</td>\n",
       "      <td>...</td>\n",
       "      <td>0.000000</td>\n",
       "      <td>0.00000</td>\n",
       "      <td>0.000000</td>\n",
       "      <td>0.000000</td>\n",
       "      <td>0.00000</td>\n",
       "      <td>0.000</td>\n",
       "      <td>0.000</td>\n",
       "      <td>0.00</td>\n",
       "      <td>0.0</td>\n",
       "      <td>0.000</td>\n",
       "    </tr>\n",
       "    <tr>\n",
       "      <th>3</th>\n",
       "      <td>1</td>\n",
       "      <td>6</td>\n",
       "      <td>5.166667</td>\n",
       "      <td>-0.503199</td>\n",
       "      <td>-0.182299</td>\n",
       "      <td>-0.285875</td>\n",
       "      <td>-0.027648</td>\n",
       "      <td>-0.151896</td>\n",
       "      <td>-0.303584</td>\n",
       "      <td>-0.483064</td>\n",
       "      <td>...</td>\n",
       "      <td>1275.572250</td>\n",
       "      <td>414.14775</td>\n",
       "      <td>0.000000</td>\n",
       "      <td>0.000000</td>\n",
       "      <td>294.98400</td>\n",
       "      <td>411.713</td>\n",
       "      <td>8426.819</td>\n",
       "      <td>0.00</td>\n",
       "      <td>0.0</td>\n",
       "      <td>735.368</td>\n",
       "    </tr>\n",
       "    <tr>\n",
       "      <th>4</th>\n",
       "      <td>2</td>\n",
       "      <td>2</td>\n",
       "      <td>1.500000</td>\n",
       "      <td>-0.655214</td>\n",
       "      <td>-0.231447</td>\n",
       "      <td>-0.290803</td>\n",
       "      <td>-0.248201</td>\n",
       "      <td>-0.487666</td>\n",
       "      <td>-0.306354</td>\n",
       "      <td>-0.568189</td>\n",
       "      <td>...</td>\n",
       "      <td>0.000000</td>\n",
       "      <td>0.00000</td>\n",
       "      <td>0.000000</td>\n",
       "      <td>0.000000</td>\n",
       "      <td>0.00000</td>\n",
       "      <td>0.000</td>\n",
       "      <td>0.000</td>\n",
       "      <td>0.00</td>\n",
       "      <td>0.0</td>\n",
       "      <td>0.000</td>\n",
       "    </tr>\n",
       "  </tbody>\n",
       "</table>\n",
       "<p>5 rows × 335 columns</p>\n",
       "</div>"
      ],
      "text/plain": [
       "   wk_min  wk_count    cnt_dt  play_time   npc_exp  npc_hongmun  quest_exp  \\\n",
       "0       7         2  6.000000   3.627488  6.041965    -0.238288   6.825828   \n",
       "1       1         8  3.125000  -0.660696 -0.231874    -0.290803  -0.250423   \n",
       "2       3         5  2.400000  -0.657060 -0.231703    -0.290803  -0.249534   \n",
       "3       1         6  5.166667  -0.503199 -0.182299    -0.285875  -0.027648   \n",
       "4       2         2  1.500000  -0.655214 -0.231447    -0.290803  -0.248201   \n",
       "\n",
       "   quest_hongmun  item_hongmun  game_combat_time           ...            \\\n",
       "0       4.926936     -0.306354          2.555035           ...             \n",
       "1      -0.487666     -0.306354         -0.569842           ...             \n",
       "2      -0.487666     -0.306354         -0.569130           ...             \n",
       "3      -0.151896     -0.303584         -0.483064           ...             \n",
       "4      -0.487666     -0.306354         -0.568189           ...             \n",
       "\n",
       "   party_Morning_mean_seconds  party_Noon_mean_seconds  \\\n",
       "0                  155.786561                270.70147   \n",
       "1                    0.000000                  0.00000   \n",
       "2                    0.000000                  0.00000   \n",
       "3                 1275.572250                414.14775   \n",
       "4                    0.000000                  0.00000   \n",
       "\n",
       "   party_Afternoon_mean_seconds  party_Evening_mean_seconds  \\\n",
       "0                    158.115813                  217.701954   \n",
       "1                      0.000000                    0.000000   \n",
       "2                      0.000000                    0.000000   \n",
       "3                      0.000000                    0.000000   \n",
       "4                      0.000000                    0.000000   \n",
       "\n",
       "   party_Night_mean_seconds  party_member_solo  party_member_six  \\\n",
       "0                 209.88035           1650.484         77348.468   \n",
       "1                   0.00000              0.000             0.000   \n",
       "2                   0.00000              0.000             0.000   \n",
       "3                 294.98400            411.713          8426.819   \n",
       "4                   0.00000              0.000             0.000   \n",
       "\n",
       "   party_member_twelve  party_member_big  party_member_irregular  \n",
       "0               350.44               0.0               71512.772  \n",
       "1                 0.00               0.0                   0.000  \n",
       "2                 0.00               0.0                   0.000  \n",
       "3                 0.00               0.0                 735.368  \n",
       "4                 0.00               0.0                   0.000  \n",
       "\n",
       "[5 rows x 335 columns]"
      ]
     },
     "execution_count": 208,
     "metadata": {},
     "output_type": "execute_result"
    }
   ],
   "source": [
    "X_train = result_train_drop_na.iloc[:,:-1]\n",
    "print(X_train.shape)\n",
    "X_train.head()"
   ]
  },
  {
   "cell_type": "code",
   "execution_count": 209,
   "metadata": {},
   "outputs": [
    {
     "name": "stdout",
     "output_type": "stream",
     "text": [
      "(40000, 335)\n"
     ]
    },
    {
     "data": {
      "text/html": [
       "<div>\n",
       "<style scoped>\n",
       "    .dataframe tbody tr th:only-of-type {\n",
       "        vertical-align: middle;\n",
       "    }\n",
       "\n",
       "    .dataframe tbody tr th {\n",
       "        vertical-align: top;\n",
       "    }\n",
       "\n",
       "    .dataframe thead th {\n",
       "        text-align: right;\n",
       "    }\n",
       "</style>\n",
       "<table border=\"1\" class=\"dataframe\">\n",
       "  <thead>\n",
       "    <tr style=\"text-align: right;\">\n",
       "      <th></th>\n",
       "      <th>wk_min</th>\n",
       "      <th>wk_count</th>\n",
       "      <th>cnt_dt</th>\n",
       "      <th>play_time</th>\n",
       "      <th>npc_exp</th>\n",
       "      <th>npc_hongmun</th>\n",
       "      <th>quest_exp</th>\n",
       "      <th>quest_hongmun</th>\n",
       "      <th>item_hongmun</th>\n",
       "      <th>game_combat_time</th>\n",
       "      <th>...</th>\n",
       "      <th>party_Morning_mean_seconds</th>\n",
       "      <th>party_Noon_mean_seconds</th>\n",
       "      <th>party_Afternoon_mean_seconds</th>\n",
       "      <th>party_Evening_mean_seconds</th>\n",
       "      <th>party_Night_mean_seconds</th>\n",
       "      <th>party_member_solo</th>\n",
       "      <th>party_member_six</th>\n",
       "      <th>party_member_twelve</th>\n",
       "      <th>party_member_big</th>\n",
       "      <th>party_member_irregular</th>\n",
       "    </tr>\n",
       "  </thead>\n",
       "  <tbody>\n",
       "    <tr>\n",
       "      <th>0</th>\n",
       "      <td>2</td>\n",
       "      <td>7</td>\n",
       "      <td>2.857143</td>\n",
       "      <td>-0.657683</td>\n",
       "      <td>-0.231874</td>\n",
       "      <td>-0.290803</td>\n",
       "      <td>-0.250423</td>\n",
       "      <td>-0.351862</td>\n",
       "      <td>-0.306354</td>\n",
       "      <td>-0.569842</td>\n",
       "      <td>...</td>\n",
       "      <td>0.0</td>\n",
       "      <td>0.0</td>\n",
       "      <td>0.0</td>\n",
       "      <td>0.0</td>\n",
       "      <td>0.0</td>\n",
       "      <td>0.0</td>\n",
       "      <td>0.0</td>\n",
       "      <td>0.0</td>\n",
       "      <td>0.0</td>\n",
       "      <td>0.0</td>\n",
       "    </tr>\n",
       "    <tr>\n",
       "      <th>1</th>\n",
       "      <td>1</td>\n",
       "      <td>5</td>\n",
       "      <td>1.000000</td>\n",
       "      <td>-0.658370</td>\n",
       "      <td>-0.231874</td>\n",
       "      <td>-0.290803</td>\n",
       "      <td>-0.250423</td>\n",
       "      <td>-0.487666</td>\n",
       "      <td>-0.306354</td>\n",
       "      <td>-0.569842</td>\n",
       "      <td>...</td>\n",
       "      <td>0.0</td>\n",
       "      <td>0.0</td>\n",
       "      <td>0.0</td>\n",
       "      <td>0.0</td>\n",
       "      <td>0.0</td>\n",
       "      <td>0.0</td>\n",
       "      <td>0.0</td>\n",
       "      <td>0.0</td>\n",
       "      <td>0.0</td>\n",
       "      <td>0.0</td>\n",
       "    </tr>\n",
       "    <tr>\n",
       "      <th>2</th>\n",
       "      <td>7</td>\n",
       "      <td>2</td>\n",
       "      <td>2.000000</td>\n",
       "      <td>-0.653661</td>\n",
       "      <td>-0.231447</td>\n",
       "      <td>-0.290803</td>\n",
       "      <td>-0.248201</td>\n",
       "      <td>-0.487666</td>\n",
       "      <td>-0.306354</td>\n",
       "      <td>-0.568189</td>\n",
       "      <td>...</td>\n",
       "      <td>0.0</td>\n",
       "      <td>0.0</td>\n",
       "      <td>0.0</td>\n",
       "      <td>0.0</td>\n",
       "      <td>0.0</td>\n",
       "      <td>0.0</td>\n",
       "      <td>0.0</td>\n",
       "      <td>0.0</td>\n",
       "      <td>0.0</td>\n",
       "      <td>0.0</td>\n",
       "    </tr>\n",
       "    <tr>\n",
       "      <th>3</th>\n",
       "      <td>7</td>\n",
       "      <td>2</td>\n",
       "      <td>3.000000</td>\n",
       "      <td>-0.654764</td>\n",
       "      <td>-0.231447</td>\n",
       "      <td>-0.290803</td>\n",
       "      <td>-0.248201</td>\n",
       "      <td>-0.487666</td>\n",
       "      <td>-0.306354</td>\n",
       "      <td>-0.568359</td>\n",
       "      <td>...</td>\n",
       "      <td>0.0</td>\n",
       "      <td>0.0</td>\n",
       "      <td>0.0</td>\n",
       "      <td>0.0</td>\n",
       "      <td>0.0</td>\n",
       "      <td>0.0</td>\n",
       "      <td>0.0</td>\n",
       "      <td>0.0</td>\n",
       "      <td>0.0</td>\n",
       "      <td>0.0</td>\n",
       "    </tr>\n",
       "    <tr>\n",
       "      <th>4</th>\n",
       "      <td>4</td>\n",
       "      <td>4</td>\n",
       "      <td>4.000000</td>\n",
       "      <td>-0.654042</td>\n",
       "      <td>-0.231661</td>\n",
       "      <td>-0.290803</td>\n",
       "      <td>-0.249312</td>\n",
       "      <td>-0.487666</td>\n",
       "      <td>-0.306354</td>\n",
       "      <td>-0.568924</td>\n",
       "      <td>...</td>\n",
       "      <td>0.0</td>\n",
       "      <td>0.0</td>\n",
       "      <td>0.0</td>\n",
       "      <td>0.0</td>\n",
       "      <td>0.0</td>\n",
       "      <td>0.0</td>\n",
       "      <td>0.0</td>\n",
       "      <td>0.0</td>\n",
       "      <td>0.0</td>\n",
       "      <td>0.0</td>\n",
       "    </tr>\n",
       "  </tbody>\n",
       "</table>\n",
       "<p>5 rows × 335 columns</p>\n",
       "</div>"
      ],
      "text/plain": [
       "   wk_min  wk_count    cnt_dt  play_time   npc_exp  npc_hongmun  quest_exp  \\\n",
       "0       2         7  2.857143  -0.657683 -0.231874    -0.290803  -0.250423   \n",
       "1       1         5  1.000000  -0.658370 -0.231874    -0.290803  -0.250423   \n",
       "2       7         2  2.000000  -0.653661 -0.231447    -0.290803  -0.248201   \n",
       "3       7         2  3.000000  -0.654764 -0.231447    -0.290803  -0.248201   \n",
       "4       4         4  4.000000  -0.654042 -0.231661    -0.290803  -0.249312   \n",
       "\n",
       "   quest_hongmun  item_hongmun  game_combat_time           ...            \\\n",
       "0      -0.351862     -0.306354         -0.569842           ...             \n",
       "1      -0.487666     -0.306354         -0.569842           ...             \n",
       "2      -0.487666     -0.306354         -0.568189           ...             \n",
       "3      -0.487666     -0.306354         -0.568359           ...             \n",
       "4      -0.487666     -0.306354         -0.568924           ...             \n",
       "\n",
       "   party_Morning_mean_seconds  party_Noon_mean_seconds  \\\n",
       "0                         0.0                      0.0   \n",
       "1                         0.0                      0.0   \n",
       "2                         0.0                      0.0   \n",
       "3                         0.0                      0.0   \n",
       "4                         0.0                      0.0   \n",
       "\n",
       "   party_Afternoon_mean_seconds  party_Evening_mean_seconds  \\\n",
       "0                           0.0                         0.0   \n",
       "1                           0.0                         0.0   \n",
       "2                           0.0                         0.0   \n",
       "3                           0.0                         0.0   \n",
       "4                           0.0                         0.0   \n",
       "\n",
       "   party_Night_mean_seconds  party_member_solo  party_member_six  \\\n",
       "0                       0.0                0.0               0.0   \n",
       "1                       0.0                0.0               0.0   \n",
       "2                       0.0                0.0               0.0   \n",
       "3                       0.0                0.0               0.0   \n",
       "4                       0.0                0.0               0.0   \n",
       "\n",
       "   party_member_twelve  party_member_big  party_member_irregular  \n",
       "0                  0.0               0.0                     0.0  \n",
       "1                  0.0               0.0                     0.0  \n",
       "2                  0.0               0.0                     0.0  \n",
       "3                  0.0               0.0                     0.0  \n",
       "4                  0.0               0.0                     0.0  \n",
       "\n",
       "[5 rows x 335 columns]"
      ]
     },
     "execution_count": 209,
     "metadata": {},
     "output_type": "execute_result"
    }
   ],
   "source": [
    "X_test = result_test_drop_na\n",
    "print(X_test.shape)\n",
    "X_test.head()"
   ]
  },
  {
   "cell_type": "code",
   "execution_count": 210,
   "metadata": {},
   "outputs": [
    {
     "name": "stdout",
     "output_type": "stream",
     "text": [
      "(100000,)\n"
     ]
    },
    {
     "data": {
      "text/plain": [
       "0        week\n",
       "1    retained\n",
       "2    retained\n",
       "3       month\n",
       "4      2month\n",
       "Name: label, dtype: object"
      ]
     },
     "execution_count": 210,
     "metadata": {},
     "output_type": "execute_result"
    }
   ],
   "source": [
    "y_train = result_train[\"label\"]\n",
    "print(y_train.shape)\n",
    "y_train.head()"
   ]
  },
  {
   "cell_type": "markdown",
   "metadata": {},
   "source": [
    "# 3. Compare Model "
   ]
  },
  {
   "cell_type": "code",
   "execution_count": 211,
   "metadata": {},
   "outputs": [],
   "source": [
    "import xgboost as xgb\n",
    "from lightgbm import LGBMClassifier \n",
    "from sklearn.model_selection import cross_val_score\n",
    "from sklearn.metrics import f1_score\n",
    "from sklearn import preprocessing"
   ]
  },
  {
   "cell_type": "code",
   "execution_count": 212,
   "metadata": {},
   "outputs": [],
   "source": [
    "dataframe1 = X_train[:10000]\n",
    "array1 = dataframe1.values\n",
    "dataframe2 = y_train[:10000]\n",
    "array2 = dataframe2.values\n",
    "\n",
    "X = array1\n",
    "Y = array2"
   ]
  },
  {
   "cell_type": "code",
   "execution_count": 213,
   "metadata": {
    "scrolled": false
   },
   "outputs": [
    {
     "data": {
      "text/plain": [
       "10000"
      ]
     },
     "execution_count": 213,
     "metadata": {},
     "output_type": "execute_result"
    }
   ],
   "source": [
    "len(X)"
   ]
  },
  {
   "cell_type": "code",
   "execution_count": 214,
   "metadata": {},
   "outputs": [
    {
     "data": {
      "text/plain": [
       "10000"
      ]
     },
     "execution_count": 214,
     "metadata": {},
     "output_type": "execute_result"
    }
   ],
   "source": [
    "len(Y)"
   ]
  },
  {
   "cell_type": "code",
   "execution_count": 215,
   "metadata": {},
   "outputs": [],
   "source": [
    "from tqdm import tqdm_notebook"
   ]
  },
  {
   "cell_type": "code",
   "execution_count": 216,
   "metadata": {},
   "outputs": [],
   "source": [
    "## compare Algorithms\n",
    "\n",
    "import pandas as pd\n",
    "import matplotlib.pyplot as plt\n",
    "import lightgbm\n",
    "from sklearn import model_selection\n",
    "from sklearn.linear_model import LogisticRegression\n",
    "from sklearn.tree import DecisionTreeClassifier\n",
    "from sklearn.ensemble import RandomForestClassifier\n",
    "from xgboost import XGBClassifier\n",
    "from sklearn.neighbors import KNeighborsClassifier\n",
    "from sklearn.discriminant_analysis import LinearDiscriminantAnalysis\n",
    "from sklearn.naive_bayes import GaussianNB\n",
    "from sklearn.gaussian_process import GaussianProcessClassifier\n",
    "from sklearn.gaussian_process.kernels import RBF\n",
    "from sklearn.svm import SVC\n",
    "from sklearn.ensemble import AdaBoostClassifier \n",
    "from sklearn.neural_network import MLPClassifier\n",
    "from sklearn.discriminant_analysis import QuadraticDiscriminantAnalysis\n",
    "from lightgbm import LGBMClassifier"
   ]
  },
  {
   "cell_type": "code",
   "execution_count": 217,
   "metadata": {},
   "outputs": [
    {
     "data": {
      "text/plain": [
       "make_scorer(f1)"
      ]
     },
     "execution_count": 217,
     "metadata": {},
     "output_type": "execute_result"
    }
   ],
   "source": [
    "import numpy as np\n",
    "from sklearn.metrics import make_scorer\n",
    "from sklearn.metrics import precision_recall_fscore_support, accuracy_score\n",
    "\n",
    "def f1(predict, actual):\n",
    "    ## predict와 actual을 numpy array로 변환합니다.\n",
    "   \n",
    "    y_pred = np.array(predict)\n",
    "    y_true = np.array(actual)\n",
    "\n",
    "    ## Accuracy 측정\n",
    "    accuracy = accuracy_score(y_true, y_pred)\n",
    "    \n",
    "    ## precision, recall, f1_score 측정\n",
    "    precision, recall, f1_score, _  = precision_recall_fscore_support(y_true, y_pred, average='weighted')\n",
    "    \n",
    "    ## f1_score만 변수에 대입\n",
    "    score = f1_score\n",
    " \n",
    "    return score\n",
    "\n",
    "## make_scorer를 이용해서 f1 함수 사용\n",
    "f1_score = make_scorer(f1)\n",
    "f1_score"
   ]
  },
  {
   "cell_type": "code",
   "execution_count": 218,
   "metadata": {},
   "outputs": [],
   "source": [
    "models = []\n",
    "seed = 37\n",
    "\n",
    "# prepare models\n",
    "models.append(('LR', LogisticRegression()))\n",
    "models.append(('LDA', LinearDiscriminantAnalysis()))\n",
    "models.append(('QDA', QuadraticDiscriminantAnalysis()))\n",
    "models.append(('KNN', KNeighborsClassifier()))\n",
    "models.append(('TREE', DecisionTreeClassifier()))\n",
    "models.append(('FOR', RandomForestClassifier()))\n",
    "models.append(('XGB', XGBClassifier()))\n",
    "models.append(('NB', GaussianNB()))\n",
    "models.append(('SVM', SVC()))\n",
    "models.append(('AB', AdaBoostClassifier ()))\n",
    "models.append(('MLP', MLPClassifier ()))\n",
    "models.append(('GPC', GaussianProcessClassifier ()))\n",
    "models.append(('LGBM', LGBMClassifier()))"
   ]
  },
  {
   "cell_type": "code",
   "execution_count": 220,
   "metadata": {
    "scrolled": true
   },
   "outputs": [
    {
     "data": {
      "application/vnd.jupyter.widget-view+json": {
       "model_id": "3b030f94af6e473abc5fe747d8ecf2b4",
       "version_major": 2,
       "version_minor": 0
      },
      "text/plain": [
       "HBox(children=(IntProgress(value=0, max=14), HTML(value='')))"
      ]
     },
     "metadata": {},
     "output_type": "display_data"
    },
    {
     "name": "stdout",
     "output_type": "stream",
     "text": [
      "0.5437092504370447 ( 0.057414823788663194 )\n"
     ]
    },
    {
     "name": "stderr",
     "output_type": "stream",
     "text": [
      "C:\\Users\\HARDTACK\\Anaconda3\\lib\\site-packages\\sklearn\\discriminant_analysis.py:388: UserWarning: Variables are collinear.\n",
      "  warnings.warn(\"Variables are collinear.\")\n",
      "C:\\Users\\HARDTACK\\Anaconda3\\lib\\site-packages\\sklearn\\discriminant_analysis.py:388: UserWarning: Variables are collinear.\n",
      "  warnings.warn(\"Variables are collinear.\")\n",
      "C:\\Users\\HARDTACK\\Anaconda3\\lib\\site-packages\\sklearn\\discriminant_analysis.py:388: UserWarning: Variables are collinear.\n",
      "  warnings.warn(\"Variables are collinear.\")\n",
      "C:\\Users\\HARDTACK\\Anaconda3\\lib\\site-packages\\sklearn\\discriminant_analysis.py:388: UserWarning: Variables are collinear.\n",
      "  warnings.warn(\"Variables are collinear.\")\n",
      "C:\\Users\\HARDTACK\\Anaconda3\\lib\\site-packages\\sklearn\\discriminant_analysis.py:442: UserWarning: The priors do not sum to 1. Renormalizing\n",
      "  UserWarning)\n",
      "C:\\Users\\HARDTACK\\Anaconda3\\lib\\site-packages\\sklearn\\discriminant_analysis.py:388: UserWarning: Variables are collinear.\n",
      "  warnings.warn(\"Variables are collinear.\")\n"
     ]
    },
    {
     "name": "stdout",
     "output_type": "stream",
     "text": [
      "0.5939849293086713 ( 0.008801958817017072 )\n"
     ]
    },
    {
     "name": "stderr",
     "output_type": "stream",
     "text": [
      "C:\\Users\\HARDTACK\\Anaconda3\\lib\\site-packages\\sklearn\\discriminant_analysis.py:682: UserWarning: Variables are collinear\n",
      "  warnings.warn(\"Variables are collinear\")\n",
      "C:\\Users\\HARDTACK\\Anaconda3\\lib\\site-packages\\sklearn\\discriminant_analysis.py:682: UserWarning: Variables are collinear\n",
      "  warnings.warn(\"Variables are collinear\")\n",
      "C:\\Users\\HARDTACK\\Anaconda3\\lib\\site-packages\\sklearn\\discriminant_analysis.py:682: UserWarning: Variables are collinear\n",
      "  warnings.warn(\"Variables are collinear\")\n",
      "C:\\Users\\HARDTACK\\Anaconda3\\lib\\site-packages\\sklearn\\discriminant_analysis.py:682: UserWarning: Variables are collinear\n",
      "  warnings.warn(\"Variables are collinear\")\n",
      "C:\\Users\\HARDTACK\\Anaconda3\\lib\\site-packages\\sklearn\\discriminant_analysis.py:682: UserWarning: Variables are collinear\n",
      "  warnings.warn(\"Variables are collinear\")\n",
      "C:\\Users\\HARDTACK\\Anaconda3\\lib\\site-packages\\sklearn\\discriminant_analysis.py:682: UserWarning: Variables are collinear\n",
      "  warnings.warn(\"Variables are collinear\")\n",
      "C:\\Users\\HARDTACK\\Anaconda3\\lib\\site-packages\\sklearn\\discriminant_analysis.py:682: UserWarning: Variables are collinear\n",
      "  warnings.warn(\"Variables are collinear\")\n",
      "C:\\Users\\HARDTACK\\Anaconda3\\lib\\site-packages\\sklearn\\discriminant_analysis.py:682: UserWarning: Variables are collinear\n",
      "  warnings.warn(\"Variables are collinear\")\n",
      "C:\\Users\\HARDTACK\\Anaconda3\\lib\\site-packages\\sklearn\\discriminant_analysis.py:682: UserWarning: Variables are collinear\n",
      "  warnings.warn(\"Variables are collinear\")\n",
      "C:\\Users\\HARDTACK\\Anaconda3\\lib\\site-packages\\sklearn\\discriminant_analysis.py:682: UserWarning: Variables are collinear\n",
      "  warnings.warn(\"Variables are collinear\")\n",
      "C:\\Users\\HARDTACK\\Anaconda3\\lib\\site-packages\\sklearn\\discriminant_analysis.py:682: UserWarning: Variables are collinear\n",
      "  warnings.warn(\"Variables are collinear\")\n",
      "C:\\Users\\HARDTACK\\Anaconda3\\lib\\site-packages\\sklearn\\discriminant_analysis.py:682: UserWarning: Variables are collinear\n",
      "  warnings.warn(\"Variables are collinear\")\n",
      "C:\\Users\\HARDTACK\\Anaconda3\\lib\\site-packages\\sklearn\\discriminant_analysis.py:682: UserWarning: Variables are collinear\n",
      "  warnings.warn(\"Variables are collinear\")\n",
      "C:\\Users\\HARDTACK\\Anaconda3\\lib\\site-packages\\sklearn\\discriminant_analysis.py:682: UserWarning: Variables are collinear\n",
      "  warnings.warn(\"Variables are collinear\")\n",
      "C:\\Users\\HARDTACK\\Anaconda3\\lib\\site-packages\\sklearn\\discriminant_analysis.py:682: UserWarning: Variables are collinear\n",
      "  warnings.warn(\"Variables are collinear\")\n",
      "C:\\Users\\HARDTACK\\Anaconda3\\lib\\site-packages\\sklearn\\discriminant_analysis.py:682: UserWarning: Variables are collinear\n",
      "  warnings.warn(\"Variables are collinear\")\n",
      "C:\\Users\\HARDTACK\\Anaconda3\\lib\\site-packages\\sklearn\\discriminant_analysis.py:682: UserWarning: Variables are collinear\n",
      "  warnings.warn(\"Variables are collinear\")\n",
      "C:\\Users\\HARDTACK\\Anaconda3\\lib\\site-packages\\sklearn\\discriminant_analysis.py:682: UserWarning: Variables are collinear\n",
      "  warnings.warn(\"Variables are collinear\")\n",
      "C:\\Users\\HARDTACK\\Anaconda3\\lib\\site-packages\\sklearn\\discriminant_analysis.py:682: UserWarning: Variables are collinear\n",
      "  warnings.warn(\"Variables are collinear\")\n",
      "C:\\Users\\HARDTACK\\Anaconda3\\lib\\site-packages\\sklearn\\discriminant_analysis.py:682: UserWarning: Variables are collinear\n",
      "  warnings.warn(\"Variables are collinear\")\n"
     ]
    },
    {
     "name": "stdout",
     "output_type": "stream",
     "text": [
      "0.553450480906324 ( 0.014404708738140117 )\n",
      "0.590635495351061 ( 0.012406138718797763 )\n",
      "0.6108663639295524 ( 0.0041062863159447354 )\n",
      "0.6647898844389422 ( 0.01027660277072481 )\n"
     ]
    },
    {
     "name": "stderr",
     "output_type": "stream",
     "text": [
      "C:\\Users\\HARDTACK\\Anaconda3\\lib\\site-packages\\sklearn\\preprocessing\\label.py:151: DeprecationWarning: The truth value of an empty array is ambiguous. Returning False, but in future this will result in an error. Use `array.size > 0` to check that an array is not empty.\n",
      "  if diff:\n",
      "C:\\Users\\HARDTACK\\Anaconda3\\lib\\site-packages\\sklearn\\preprocessing\\label.py:151: DeprecationWarning: The truth value of an empty array is ambiguous. Returning False, but in future this will result in an error. Use `array.size > 0` to check that an array is not empty.\n",
      "  if diff:\n",
      "C:\\Users\\HARDTACK\\Anaconda3\\lib\\site-packages\\sklearn\\preprocessing\\label.py:151: DeprecationWarning: The truth value of an empty array is ambiguous. Returning False, but in future this will result in an error. Use `array.size > 0` to check that an array is not empty.\n",
      "  if diff:\n",
      "C:\\Users\\HARDTACK\\Anaconda3\\lib\\site-packages\\sklearn\\preprocessing\\label.py:151: DeprecationWarning: The truth value of an empty array is ambiguous. Returning False, but in future this will result in an error. Use `array.size > 0` to check that an array is not empty.\n",
      "  if diff:\n",
      "C:\\Users\\HARDTACK\\Anaconda3\\lib\\site-packages\\sklearn\\preprocessing\\label.py:151: DeprecationWarning: The truth value of an empty array is ambiguous. Returning False, but in future this will result in an error. Use `array.size > 0` to check that an array is not empty.\n",
      "  if diff:\n"
     ]
    },
    {
     "name": "stdout",
     "output_type": "stream",
     "text": [
      "0.6884047559632039 ( 0.0144985250452257 )\n",
      "0.451462751491044 ( 0.007699240564365477 )\n",
      "0.5615424980287306 ( 0.008899756938278942 )\n",
      "0.6247605102245302 ( 0.010001883489177764 )\n",
      "0.5661949236558389 ( 0.010570137751680466 )\n",
      "0.5426720162712875 ( 0.013170075202487 )\n"
     ]
    },
    {
     "name": "stderr",
     "output_type": "stream",
     "text": [
      "C:\\Users\\HARDTACK\\Anaconda3\\lib\\site-packages\\sklearn\\discriminant_analysis.py:682: UserWarning: Variables are collinear\n",
      "  warnings.warn(\"Variables are collinear\")\n",
      "C:\\Users\\HARDTACK\\Anaconda3\\lib\\site-packages\\sklearn\\discriminant_analysis.py:682: UserWarning: Variables are collinear\n",
      "  warnings.warn(\"Variables are collinear\")\n",
      "C:\\Users\\HARDTACK\\Anaconda3\\lib\\site-packages\\sklearn\\discriminant_analysis.py:682: UserWarning: Variables are collinear\n",
      "  warnings.warn(\"Variables are collinear\")\n",
      "C:\\Users\\HARDTACK\\Anaconda3\\lib\\site-packages\\sklearn\\discriminant_analysis.py:682: UserWarning: Variables are collinear\n",
      "  warnings.warn(\"Variables are collinear\")\n",
      "C:\\Users\\HARDTACK\\Anaconda3\\lib\\site-packages\\sklearn\\discriminant_analysis.py:682: UserWarning: Variables are collinear\n",
      "  warnings.warn(\"Variables are collinear\")\n",
      "C:\\Users\\HARDTACK\\Anaconda3\\lib\\site-packages\\sklearn\\discriminant_analysis.py:682: UserWarning: Variables are collinear\n",
      "  warnings.warn(\"Variables are collinear\")\n",
      "C:\\Users\\HARDTACK\\Anaconda3\\lib\\site-packages\\sklearn\\discriminant_analysis.py:682: UserWarning: Variables are collinear\n",
      "  warnings.warn(\"Variables are collinear\")\n",
      "C:\\Users\\HARDTACK\\Anaconda3\\lib\\site-packages\\sklearn\\discriminant_analysis.py:682: UserWarning: Variables are collinear\n",
      "  warnings.warn(\"Variables are collinear\")\n",
      "C:\\Users\\HARDTACK\\Anaconda3\\lib\\site-packages\\sklearn\\discriminant_analysis.py:682: UserWarning: Variables are collinear\n",
      "  warnings.warn(\"Variables are collinear\")\n",
      "C:\\Users\\HARDTACK\\Anaconda3\\lib\\site-packages\\sklearn\\discriminant_analysis.py:682: UserWarning: Variables are collinear\n",
      "  warnings.warn(\"Variables are collinear\")\n",
      "C:\\Users\\HARDTACK\\Anaconda3\\lib\\site-packages\\sklearn\\discriminant_analysis.py:682: UserWarning: Variables are collinear\n",
      "  warnings.warn(\"Variables are collinear\")\n",
      "C:\\Users\\HARDTACK\\Anaconda3\\lib\\site-packages\\sklearn\\discriminant_analysis.py:682: UserWarning: Variables are collinear\n",
      "  warnings.warn(\"Variables are collinear\")\n",
      "C:\\Users\\HARDTACK\\Anaconda3\\lib\\site-packages\\sklearn\\discriminant_analysis.py:682: UserWarning: Variables are collinear\n",
      "  warnings.warn(\"Variables are collinear\")\n",
      "C:\\Users\\HARDTACK\\Anaconda3\\lib\\site-packages\\sklearn\\discriminant_analysis.py:682: UserWarning: Variables are collinear\n",
      "  warnings.warn(\"Variables are collinear\")\n",
      "C:\\Users\\HARDTACK\\Anaconda3\\lib\\site-packages\\sklearn\\discriminant_analysis.py:682: UserWarning: Variables are collinear\n",
      "  warnings.warn(\"Variables are collinear\")\n",
      "C:\\Users\\HARDTACK\\Anaconda3\\lib\\site-packages\\sklearn\\discriminant_analysis.py:682: UserWarning: Variables are collinear\n",
      "  warnings.warn(\"Variables are collinear\")\n",
      "C:\\Users\\HARDTACK\\Anaconda3\\lib\\site-packages\\sklearn\\discriminant_analysis.py:682: UserWarning: Variables are collinear\n",
      "  warnings.warn(\"Variables are collinear\")\n",
      "C:\\Users\\HARDTACK\\Anaconda3\\lib\\site-packages\\sklearn\\discriminant_analysis.py:682: UserWarning: Variables are collinear\n",
      "  warnings.warn(\"Variables are collinear\")\n",
      "C:\\Users\\HARDTACK\\Anaconda3\\lib\\site-packages\\sklearn\\discriminant_analysis.py:682: UserWarning: Variables are collinear\n",
      "  warnings.warn(\"Variables are collinear\")\n",
      "C:\\Users\\HARDTACK\\Anaconda3\\lib\\site-packages\\sklearn\\discriminant_analysis.py:682: UserWarning: Variables are collinear\n",
      "  warnings.warn(\"Variables are collinear\")\n"
     ]
    },
    {
     "name": "stdout",
     "output_type": "stream",
     "text": [
      "0.553450480906324 ( 0.014404708738140117 )\n"
     ]
    },
    {
     "name": "stderr",
     "output_type": "stream",
     "text": [
      "C:\\Users\\HARDTACK\\Anaconda3\\lib\\site-packages\\sklearn\\preprocessing\\label.py:151: DeprecationWarning: The truth value of an empty array is ambiguous. Returning False, but in future this will result in an error. Use `array.size > 0` to check that an array is not empty.\n",
      "  if diff:\n",
      "C:\\Users\\HARDTACK\\Anaconda3\\lib\\site-packages\\sklearn\\preprocessing\\label.py:151: DeprecationWarning: The truth value of an empty array is ambiguous. Returning False, but in future this will result in an error. Use `array.size > 0` to check that an array is not empty.\n",
      "  if diff:\n",
      "C:\\Users\\HARDTACK\\Anaconda3\\lib\\site-packages\\sklearn\\preprocessing\\label.py:151: DeprecationWarning: The truth value of an empty array is ambiguous. Returning False, but in future this will result in an error. Use `array.size > 0` to check that an array is not empty.\n",
      "  if diff:\n",
      "C:\\Users\\HARDTACK\\Anaconda3\\lib\\site-packages\\sklearn\\preprocessing\\label.py:151: DeprecationWarning: The truth value of an empty array is ambiguous. Returning False, but in future this will result in an error. Use `array.size > 0` to check that an array is not empty.\n",
      "  if diff:\n",
      "C:\\Users\\HARDTACK\\Anaconda3\\lib\\site-packages\\sklearn\\preprocessing\\label.py:151: DeprecationWarning: The truth value of an empty array is ambiguous. Returning False, but in future this will result in an error. Use `array.size > 0` to check that an array is not empty.\n",
      "  if diff:\n"
     ]
    },
    {
     "name": "stdout",
     "output_type": "stream",
     "text": [
      "0.6990655972226631 ( 0.012458497122835328 )\n"
     ]
    },
    {
     "data": {
      "image/png": "[encoded data removed]",
      "text/plain": [
       "<Figure size 432x288 with 1 Axes>"
      ]
     },
     "metadata": {},
     "output_type": "display_data"
    },
    {
     "name": "stdout",
     "output_type": "stream",
     "text": [
      "(14, 3)\n"
     ]
    },
    {
     "data": {
      "text/html": [
       "<div>\n",
       "<style scoped>\n",
       "    .dataframe tbody tr th:only-of-type {\n",
       "        vertical-align: middle;\n",
       "    }\n",
       "\n",
       "    .dataframe tbody tr th {\n",
       "        vertical-align: top;\n",
       "    }\n",
       "\n",
       "    .dataframe thead th {\n",
       "        text-align: right;\n",
       "    }\n",
       "</style>\n",
       "<table border=\"1\" class=\"dataframe\">\n",
       "  <thead>\n",
       "    <tr style=\"text-align: right;\">\n",
       "      <th></th>\n",
       "      <th>model</th>\n",
       "      <th>f1_score</th>\n",
       "      <th>std</th>\n",
       "    </tr>\n",
       "  </thead>\n",
       "  <tbody>\n",
       "    <tr>\n",
       "      <th>13</th>\n",
       "      <td>LGBM</td>\n",
       "      <td>0.699066</td>\n",
       "      <td>0.012458</td>\n",
       "    </tr>\n",
       "    <tr>\n",
       "      <th>6</th>\n",
       "      <td>XGB</td>\n",
       "      <td>0.688405</td>\n",
       "      <td>0.014499</td>\n",
       "    </tr>\n",
       "    <tr>\n",
       "      <th>5</th>\n",
       "      <td>FOR</td>\n",
       "      <td>0.664790</td>\n",
       "      <td>0.010277</td>\n",
       "    </tr>\n",
       "    <tr>\n",
       "      <th>9</th>\n",
       "      <td>AB</td>\n",
       "      <td>0.624761</td>\n",
       "      <td>0.010002</td>\n",
       "    </tr>\n",
       "    <tr>\n",
       "      <th>4</th>\n",
       "      <td>TREE</td>\n",
       "      <td>0.610866</td>\n",
       "      <td>0.004106</td>\n",
       "    </tr>\n",
       "    <tr>\n",
       "      <th>1</th>\n",
       "      <td>LDA</td>\n",
       "      <td>0.593985</td>\n",
       "      <td>0.008802</td>\n",
       "    </tr>\n",
       "    <tr>\n",
       "      <th>3</th>\n",
       "      <td>KNN</td>\n",
       "      <td>0.590635</td>\n",
       "      <td>0.012406</td>\n",
       "    </tr>\n",
       "    <tr>\n",
       "      <th>10</th>\n",
       "      <td>MLP</td>\n",
       "      <td>0.566195</td>\n",
       "      <td>0.010570</td>\n",
       "    </tr>\n",
       "    <tr>\n",
       "      <th>8</th>\n",
       "      <td>SVM</td>\n",
       "      <td>0.561542</td>\n",
       "      <td>0.008900</td>\n",
       "    </tr>\n",
       "    <tr>\n",
       "      <th>2</th>\n",
       "      <td>QDA</td>\n",
       "      <td>0.553450</td>\n",
       "      <td>0.014405</td>\n",
       "    </tr>\n",
       "  </tbody>\n",
       "</table>\n",
       "</div>"
      ],
      "text/plain": [
       "   model  f1_score       std\n",
       "13  LGBM  0.699066  0.012458\n",
       "6    XGB  0.688405  0.014499\n",
       "5    FOR  0.664790  0.010277\n",
       "9     AB  0.624761  0.010002\n",
       "4   TREE  0.610866  0.004106\n",
       "1    LDA  0.593985  0.008802\n",
       "3    KNN  0.590635  0.012406\n",
       "10   MLP  0.566195  0.010570\n",
       "8    SVM  0.561542  0.008900\n",
       "2    QDA  0.553450  0.014405"
      ]
     },
     "execution_count": 220,
     "metadata": {},
     "output_type": "execute_result"
    }
   ],
   "source": [
    "# evaluate each model in turn\n",
    "results = []\n",
    "names = []\n",
    "scores = str()\n",
    "score_list = []\n",
    "scoring = f1_score\n",
    "\n",
    "for name, model in tqdm_notebook(models):\n",
    "    kfold = model_selection.KFold(n_splits = 5, random_state=seed)\n",
    "    cv_results = model_selection.cross_val_score(model, X, Y, cv=kfold, scoring= scoring)\n",
    "    results.append(cv_results)\n",
    "    names.append(name)\n",
    "    f1 = cv_results.mean()\n",
    "    std = cv_results.std()\n",
    "    scores = {'model' : name, 'f1_score' : f1, 'std' :std} \n",
    "    score_list.append(scores)\n",
    "    print(f1, \"(\",std,\")\")\n",
    "\n",
    "\n",
    "# boxplot algorithm comparison\n",
    "fig = plt.figure()\n",
    "fig.suptitle('Algorithm Comparison1')\n",
    "ax = fig.add_subplot(111)\n",
    "plt.boxplot(results)\n",
    "ax.set_xticklabels(names)\n",
    "plt.savefig('compare Models1')\n",
    "plt.show()\n",
    "\n",
    "\n",
    "score_list = pd.DataFrame.from_dict(score_list)\n",
    "score_list = score_list[[\"model\", \"f1_score\", \"std\"]]\n",
    "score_list = score_list.sort_values(by=\"f1_score\", ascending = False)\n",
    "print(score_list.shape)\n",
    "score_list.head(10)"
   ]
  },
  {
   "cell_type": "code",
   "execution_count": null,
   "metadata": {},
   "outputs": [],
   "source": []
  },
  {
   "cell_type": "code",
   "execution_count": 208,
   "metadata": {},
   "outputs": [
    {
     "name": "stdout",
     "output_type": "stream",
     "text": [
      "(100000, 335)\n"
     ]
    },
    {
     "data": {
      "text/html": [
       "<div>\n",
       "<style scoped>\n",
       "    .dataframe tbody tr th:only-of-type {\n",
       "        vertical-align: middle;\n",
       "    }\n",
       "\n",
       "    .dataframe tbody tr th {\n",
       "        vertical-align: top;\n",
       "    }\n",
       "\n",
       "    .dataframe thead th {\n",
       "        text-align: right;\n",
       "    }\n",
       "</style>\n",
       "<table border=\"1\" class=\"dataframe\">\n",
       "  <thead>\n",
       "    <tr style=\"text-align: right;\">\n",
       "      <th></th>\n",
       "      <th>wk_min</th>\n",
       "      <th>wk_count</th>\n",
       "      <th>cnt_dt</th>\n",
       "      <th>play_time</th>\n",
       "      <th>npc_exp</th>\n",
       "      <th>npc_hongmun</th>\n",
       "      <th>quest_exp</th>\n",
       "      <th>quest_hongmun</th>\n",
       "      <th>item_hongmun</th>\n",
       "      <th>game_combat_time</th>\n",
       "      <th>...</th>\n",
       "      <th>party_Morning_mean_seconds</th>\n",
       "      <th>party_Noon_mean_seconds</th>\n",
       "      <th>party_Afternoon_mean_seconds</th>\n",
       "      <th>party_Evening_mean_seconds</th>\n",
       "      <th>party_Night_mean_seconds</th>\n",
       "      <th>party_member_solo</th>\n",
       "      <th>party_member_six</th>\n",
       "      <th>party_member_twelve</th>\n",
       "      <th>party_member_big</th>\n",
       "      <th>party_member_irregular</th>\n",
       "    </tr>\n",
       "  </thead>\n",
       "  <tbody>\n",
       "    <tr>\n",
       "      <th>0</th>\n",
       "      <td>7</td>\n",
       "      <td>2</td>\n",
       "      <td>6.000000</td>\n",
       "      <td>3.627488</td>\n",
       "      <td>6.041965</td>\n",
       "      <td>-0.238288</td>\n",
       "      <td>6.825828</td>\n",
       "      <td>4.926936</td>\n",
       "      <td>-0.306354</td>\n",
       "      <td>2.555035</td>\n",
       "      <td>...</td>\n",
       "      <td>155.786561</td>\n",
       "      <td>270.70147</td>\n",
       "      <td>158.115813</td>\n",
       "      <td>217.701954</td>\n",
       "      <td>209.88035</td>\n",
       "      <td>1650.484</td>\n",
       "      <td>77348.468</td>\n",
       "      <td>350.44</td>\n",
       "      <td>0.0</td>\n",
       "      <td>71512.772</td>\n",
       "    </tr>\n",
       "    <tr>\n",
       "      <th>1</th>\n",
       "      <td>1</td>\n",
       "      <td>8</td>\n",
       "      <td>3.125000</td>\n",
       "      <td>-0.660696</td>\n",
       "      <td>-0.231874</td>\n",
       "      <td>-0.290803</td>\n",
       "      <td>-0.250423</td>\n",
       "      <td>-0.487666</td>\n",
       "      <td>-0.306354</td>\n",
       "      <td>-0.569842</td>\n",
       "      <td>...</td>\n",
       "      <td>0.000000</td>\n",
       "      <td>0.00000</td>\n",
       "      <td>0.000000</td>\n",
       "      <td>0.000000</td>\n",
       "      <td>0.00000</td>\n",
       "      <td>0.000</td>\n",
       "      <td>0.000</td>\n",
       "      <td>0.00</td>\n",
       "      <td>0.0</td>\n",
       "      <td>0.000</td>\n",
       "    </tr>\n",
       "    <tr>\n",
       "      <th>2</th>\n",
       "      <td>3</td>\n",
       "      <td>5</td>\n",
       "      <td>2.400000</td>\n",
       "      <td>-0.657060</td>\n",
       "      <td>-0.231703</td>\n",
       "      <td>-0.290803</td>\n",
       "      <td>-0.249534</td>\n",
       "      <td>-0.487666</td>\n",
       "      <td>-0.306354</td>\n",
       "      <td>-0.569130</td>\n",
       "      <td>...</td>\n",
       "      <td>0.000000</td>\n",
       "      <td>0.00000</td>\n",
       "      <td>0.000000</td>\n",
       "      <td>0.000000</td>\n",
       "      <td>0.00000</td>\n",
       "      <td>0.000</td>\n",
       "      <td>0.000</td>\n",
       "      <td>0.00</td>\n",
       "      <td>0.0</td>\n",
       "      <td>0.000</td>\n",
       "    </tr>\n",
       "    <tr>\n",
       "      <th>3</th>\n",
       "      <td>1</td>\n",
       "      <td>6</td>\n",
       "      <td>5.166667</td>\n",
       "      <td>-0.503199</td>\n",
       "      <td>-0.182299</td>\n",
       "      <td>-0.285875</td>\n",
       "      <td>-0.027648</td>\n",
       "      <td>-0.151896</td>\n",
       "      <td>-0.303584</td>\n",
       "      <td>-0.483064</td>\n",
       "      <td>...</td>\n",
       "      <td>1275.572250</td>\n",
       "      <td>414.14775</td>\n",
       "      <td>0.000000</td>\n",
       "      <td>0.000000</td>\n",
       "      <td>294.98400</td>\n",
       "      <td>411.713</td>\n",
       "      <td>8426.819</td>\n",
       "      <td>0.00</td>\n",
       "      <td>0.0</td>\n",
       "      <td>735.368</td>\n",
       "    </tr>\n",
       "    <tr>\n",
       "      <th>4</th>\n",
       "      <td>2</td>\n",
       "      <td>2</td>\n",
       "      <td>1.500000</td>\n",
       "      <td>-0.655214</td>\n",
       "      <td>-0.231447</td>\n",
       "      <td>-0.290803</td>\n",
       "      <td>-0.248201</td>\n",
       "      <td>-0.487666</td>\n",
       "      <td>-0.306354</td>\n",
       "      <td>-0.568189</td>\n",
       "      <td>...</td>\n",
       "      <td>0.000000</td>\n",
       "      <td>0.00000</td>\n",
       "      <td>0.000000</td>\n",
       "      <td>0.000000</td>\n",
       "      <td>0.00000</td>\n",
       "      <td>0.000</td>\n",
       "      <td>0.000</td>\n",
       "      <td>0.00</td>\n",
       "      <td>0.0</td>\n",
       "      <td>0.000</td>\n",
       "    </tr>\n",
       "  </tbody>\n",
       "</table>\n",
       "<p>5 rows × 335 columns</p>\n",
       "</div>"
      ],
      "text/plain": [
       "   wk_min  wk_count    cnt_dt  play_time   npc_exp  npc_hongmun  quest_exp  \\\n",
       "0       7         2  6.000000   3.627488  6.041965    -0.238288   6.825828   \n",
       "1       1         8  3.125000  -0.660696 -0.231874    -0.290803  -0.250423   \n",
       "2       3         5  2.400000  -0.657060 -0.231703    -0.290803  -0.249534   \n",
       "3       1         6  5.166667  -0.503199 -0.182299    -0.285875  -0.027648   \n",
       "4       2         2  1.500000  -0.655214 -0.231447    -0.290803  -0.248201   \n",
       "\n",
       "   quest_hongmun  item_hongmun  game_combat_time           ...            \\\n",
       "0       4.926936     -0.306354          2.555035           ...             \n",
       "1      -0.487666     -0.306354         -0.569842           ...             \n",
       "2      -0.487666     -0.306354         -0.569130           ...             \n",
       "3      -0.151896     -0.303584         -0.483064           ...             \n",
       "4      -0.487666     -0.306354         -0.568189           ...             \n",
       "\n",
       "   party_Morning_mean_seconds  party_Noon_mean_seconds  \\\n",
       "0                  155.786561                270.70147   \n",
       "1                    0.000000                  0.00000   \n",
       "2                    0.000000                  0.00000   \n",
       "3                 1275.572250                414.14775   \n",
       "4                    0.000000                  0.00000   \n",
       "\n",
       "   party_Afternoon_mean_seconds  party_Evening_mean_seconds  \\\n",
       "0                    158.115813                  217.701954   \n",
       "1                      0.000000                    0.000000   \n",
       "2                      0.000000                    0.000000   \n",
       "3                      0.000000                    0.000000   \n",
       "4                      0.000000                    0.000000   \n",
       "\n",
       "   party_Night_mean_seconds  party_member_solo  party_member_six  \\\n",
       "0                 209.88035           1650.484         77348.468   \n",
       "1                   0.00000              0.000             0.000   \n",
       "2                   0.00000              0.000             0.000   \n",
       "3                 294.98400            411.713          8426.819   \n",
       "4                   0.00000              0.000             0.000   \n",
       "\n",
       "   party_member_twelve  party_member_big  party_member_irregular  \n",
       "0               350.44               0.0               71512.772  \n",
       "1                 0.00               0.0                   0.000  \n",
       "2                 0.00               0.0                   0.000  \n",
       "3                 0.00               0.0                 735.368  \n",
       "4                 0.00               0.0                   0.000  \n",
       "\n",
       "[5 rows x 335 columns]"
      ]
     },
     "execution_count": 208,
     "metadata": {},
     "output_type": "execute_result"
    }
   ],
   "source": [
    "X_train = result_train.iloc[:,:-1]\n",
    "print(X_train.shape)\n",
    "X_train.head()"
   ]
  },
  {
   "cell_type": "code",
   "execution_count": 209,
   "metadata": {},
   "outputs": [
    {
     "name": "stdout",
     "output_type": "stream",
     "text": [
      "(40000, 335)\n"
     ]
    },
    {
     "data": {
      "text/html": [
       "<div>\n",
       "<style scoped>\n",
       "    .dataframe tbody tr th:only-of-type {\n",
       "        vertical-align: middle;\n",
       "    }\n",
       "\n",
       "    .dataframe tbody tr th {\n",
       "        vertical-align: top;\n",
       "    }\n",
       "\n",
       "    .dataframe thead th {\n",
       "        text-align: right;\n",
       "    }\n",
       "</style>\n",
       "<table border=\"1\" class=\"dataframe\">\n",
       "  <thead>\n",
       "    <tr style=\"text-align: right;\">\n",
       "      <th></th>\n",
       "      <th>wk_min</th>\n",
       "      <th>wk_count</th>\n",
       "      <th>cnt_dt</th>\n",
       "      <th>play_time</th>\n",
       "      <th>npc_exp</th>\n",
       "      <th>npc_hongmun</th>\n",
       "      <th>quest_exp</th>\n",
       "      <th>quest_hongmun</th>\n",
       "      <th>item_hongmun</th>\n",
       "      <th>game_combat_time</th>\n",
       "      <th>...</th>\n",
       "      <th>party_Morning_mean_seconds</th>\n",
       "      <th>party_Noon_mean_seconds</th>\n",
       "      <th>party_Afternoon_mean_seconds</th>\n",
       "      <th>party_Evening_mean_seconds</th>\n",
       "      <th>party_Night_mean_seconds</th>\n",
       "      <th>party_member_solo</th>\n",
       "      <th>party_member_six</th>\n",
       "      <th>party_member_twelve</th>\n",
       "      <th>party_member_big</th>\n",
       "      <th>party_member_irregular</th>\n",
       "    </tr>\n",
       "  </thead>\n",
       "  <tbody>\n",
       "    <tr>\n",
       "      <th>0</th>\n",
       "      <td>2</td>\n",
       "      <td>7</td>\n",
       "      <td>2.857143</td>\n",
       "      <td>-0.657683</td>\n",
       "      <td>-0.231874</td>\n",
       "      <td>-0.290803</td>\n",
       "      <td>-0.250423</td>\n",
       "      <td>-0.351862</td>\n",
       "      <td>-0.306354</td>\n",
       "      <td>-0.569842</td>\n",
       "      <td>...</td>\n",
       "      <td>0.0</td>\n",
       "      <td>0.0</td>\n",
       "      <td>0.0</td>\n",
       "      <td>0.0</td>\n",
       "      <td>0.0</td>\n",
       "      <td>0.0</td>\n",
       "      <td>0.0</td>\n",
       "      <td>0.0</td>\n",
       "      <td>0.0</td>\n",
       "      <td>0.0</td>\n",
       "    </tr>\n",
       "    <tr>\n",
       "      <th>1</th>\n",
       "      <td>1</td>\n",
       "      <td>5</td>\n",
       "      <td>1.000000</td>\n",
       "      <td>-0.658370</td>\n",
       "      <td>-0.231874</td>\n",
       "      <td>-0.290803</td>\n",
       "      <td>-0.250423</td>\n",
       "      <td>-0.487666</td>\n",
       "      <td>-0.306354</td>\n",
       "      <td>-0.569842</td>\n",
       "      <td>...</td>\n",
       "      <td>0.0</td>\n",
       "      <td>0.0</td>\n",
       "      <td>0.0</td>\n",
       "      <td>0.0</td>\n",
       "      <td>0.0</td>\n",
       "      <td>0.0</td>\n",
       "      <td>0.0</td>\n",
       "      <td>0.0</td>\n",
       "      <td>0.0</td>\n",
       "      <td>0.0</td>\n",
       "    </tr>\n",
       "    <tr>\n",
       "      <th>2</th>\n",
       "      <td>7</td>\n",
       "      <td>2</td>\n",
       "      <td>2.000000</td>\n",
       "      <td>-0.653661</td>\n",
       "      <td>-0.231447</td>\n",
       "      <td>-0.290803</td>\n",
       "      <td>-0.248201</td>\n",
       "      <td>-0.487666</td>\n",
       "      <td>-0.306354</td>\n",
       "      <td>-0.568189</td>\n",
       "      <td>...</td>\n",
       "      <td>0.0</td>\n",
       "      <td>0.0</td>\n",
       "      <td>0.0</td>\n",
       "      <td>0.0</td>\n",
       "      <td>0.0</td>\n",
       "      <td>0.0</td>\n",
       "      <td>0.0</td>\n",
       "      <td>0.0</td>\n",
       "      <td>0.0</td>\n",
       "      <td>0.0</td>\n",
       "    </tr>\n",
       "    <tr>\n",
       "      <th>3</th>\n",
       "      <td>7</td>\n",
       "      <td>2</td>\n",
       "      <td>3.000000</td>\n",
       "      <td>-0.654764</td>\n",
       "      <td>-0.231447</td>\n",
       "      <td>-0.290803</td>\n",
       "      <td>-0.248201</td>\n",
       "      <td>-0.487666</td>\n",
       "      <td>-0.306354</td>\n",
       "      <td>-0.568359</td>\n",
       "      <td>...</td>\n",
       "      <td>0.0</td>\n",
       "      <td>0.0</td>\n",
       "      <td>0.0</td>\n",
       "      <td>0.0</td>\n",
       "      <td>0.0</td>\n",
       "      <td>0.0</td>\n",
       "      <td>0.0</td>\n",
       "      <td>0.0</td>\n",
       "      <td>0.0</td>\n",
       "      <td>0.0</td>\n",
       "    </tr>\n",
       "    <tr>\n",
       "      <th>4</th>\n",
       "      <td>4</td>\n",
       "      <td>4</td>\n",
       "      <td>4.000000</td>\n",
       "      <td>-0.654042</td>\n",
       "      <td>-0.231661</td>\n",
       "      <td>-0.290803</td>\n",
       "      <td>-0.249312</td>\n",
       "      <td>-0.487666</td>\n",
       "      <td>-0.306354</td>\n",
       "      <td>-0.568924</td>\n",
       "      <td>...</td>\n",
       "      <td>0.0</td>\n",
       "      <td>0.0</td>\n",
       "      <td>0.0</td>\n",
       "      <td>0.0</td>\n",
       "      <td>0.0</td>\n",
       "      <td>0.0</td>\n",
       "      <td>0.0</td>\n",
       "      <td>0.0</td>\n",
       "      <td>0.0</td>\n",
       "      <td>0.0</td>\n",
       "    </tr>\n",
       "  </tbody>\n",
       "</table>\n",
       "<p>5 rows × 335 columns</p>\n",
       "</div>"
      ],
      "text/plain": [
       "   wk_min  wk_count    cnt_dt  play_time   npc_exp  npc_hongmun  quest_exp  \\\n",
       "0       2         7  2.857143  -0.657683 -0.231874    -0.290803  -0.250423   \n",
       "1       1         5  1.000000  -0.658370 -0.231874    -0.290803  -0.250423   \n",
       "2       7         2  2.000000  -0.653661 -0.231447    -0.290803  -0.248201   \n",
       "3       7         2  3.000000  -0.654764 -0.231447    -0.290803  -0.248201   \n",
       "4       4         4  4.000000  -0.654042 -0.231661    -0.290803  -0.249312   \n",
       "\n",
       "   quest_hongmun  item_hongmun  game_combat_time           ...            \\\n",
       "0      -0.351862     -0.306354         -0.569842           ...             \n",
       "1      -0.487666     -0.306354         -0.569842           ...             \n",
       "2      -0.487666     -0.306354         -0.568189           ...             \n",
       "3      -0.487666     -0.306354         -0.568359           ...             \n",
       "4      -0.487666     -0.306354         -0.568924           ...             \n",
       "\n",
       "   party_Morning_mean_seconds  party_Noon_mean_seconds  \\\n",
       "0                         0.0                      0.0   \n",
       "1                         0.0                      0.0   \n",
       "2                         0.0                      0.0   \n",
       "3                         0.0                      0.0   \n",
       "4                         0.0                      0.0   \n",
       "\n",
       "   party_Afternoon_mean_seconds  party_Evening_mean_seconds  \\\n",
       "0                           0.0                         0.0   \n",
       "1                           0.0                         0.0   \n",
       "2                           0.0                         0.0   \n",
       "3                           0.0                         0.0   \n",
       "4                           0.0                         0.0   \n",
       "\n",
       "   party_Night_mean_seconds  party_member_solo  party_member_six  \\\n",
       "0                       0.0                0.0               0.0   \n",
       "1                       0.0                0.0               0.0   \n",
       "2                       0.0                0.0               0.0   \n",
       "3                       0.0                0.0               0.0   \n",
       "4                       0.0                0.0               0.0   \n",
       "\n",
       "   party_member_twelve  party_member_big  party_member_irregular  \n",
       "0                  0.0               0.0                     0.0  \n",
       "1                  0.0               0.0                     0.0  \n",
       "2                  0.0               0.0                     0.0  \n",
       "3                  0.0               0.0                     0.0  \n",
       "4                  0.0               0.0                     0.0  \n",
       "\n",
       "[5 rows x 335 columns]"
      ]
     },
     "execution_count": 209,
     "metadata": {},
     "output_type": "execute_result"
    }
   ],
   "source": [
    "X_test = result_test\n",
    "print(X_test.shape)\n",
    "X_test.head()"
   ]
  },
  {
   "cell_type": "code",
   "execution_count": 210,
   "metadata": {},
   "outputs": [
    {
     "name": "stdout",
     "output_type": "stream",
     "text": [
      "(100000,)\n"
     ]
    },
    {
     "data": {
      "text/plain": [
       "0        week\n",
       "1    retained\n",
       "2    retained\n",
       "3       month\n",
       "4      2month\n",
       "Name: label, dtype: object"
      ]
     },
     "execution_count": 210,
     "metadata": {},
     "output_type": "execute_result"
    }
   ],
   "source": [
    "y_train = result_train[\"label\"]\n",
    "print(y_train.shape)\n",
    "y_train.head()"
   ]
  },
  {
   "cell_type": "markdown",
   "metadata": {},
   "source": [
    "# 3. Compare Model "
   ]
  },
  {
   "cell_type": "code",
   "execution_count": 211,
   "metadata": {},
   "outputs": [],
   "source": [
    "import xgboost as xgb\n",
    "from lightgbm import LGBMClassifier \n",
    "from sklearn.model_selection import cross_val_score\n",
    "from sklearn.metrics import f1_score\n",
    "from sklearn import preprocessing"
   ]
  },
  {
   "cell_type": "code",
   "execution_count": 212,
   "metadata": {},
   "outputs": [],
   "source": [
    "dataframe1 = X_train[:10000]\n",
    "array1 = dataframe1.values\n",
    "dataframe2 = y_train[:10000]\n",
    "array2 = dataframe2.values\n",
    "\n",
    "X = array1\n",
    "Y = array2"
   ]
  },
  {
   "cell_type": "code",
   "execution_count": 213,
   "metadata": {
    "scrolled": false
   },
   "outputs": [
    {
     "data": {
      "text/plain": [
       "10000"
      ]
     },
     "execution_count": 213,
     "metadata": {},
     "output_type": "execute_result"
    }
   ],
   "source": [
    "len(X)"
   ]
  },
  {
   "cell_type": "code",
   "execution_count": 214,
   "metadata": {},
   "outputs": [
    {
     "data": {
      "text/plain": [
       "10000"
      ]
     },
     "execution_count": 214,
     "metadata": {},
     "output_type": "execute_result"
    }
   ],
   "source": [
    "len(Y)"
   ]
  },
  {
   "cell_type": "code",
   "execution_count": 218,
   "metadata": {},
   "outputs": [],
   "source": [
    "models = []\n",
    "seed = 37\n",
    "\n",
    "# prepare models\n",
    "\n",
    "models.append(('XGB', XGBClassifier()))\n",
    "models.append(('LGBM', LGBMClassifier()))"
   ]
  },
  {
   "cell_type": "code",
   "execution_count": 220,
   "metadata": {
    "scrolled": true
   },
   "outputs": [
    {
     "data": {
      "application/vnd.jupyter.widget-view+json": {
       "model_id": "3b030f94af6e473abc5fe747d8ecf2b4",
       "version_major": 2,
       "version_minor": 0
      },
      "text/plain": [
       "HBox(children=(IntProgress(value=0, max=14), HTML(value='')))"
      ]
     },
     "metadata": {},
     "output_type": "display_data"
    },
    {
     "name": "stdout",
     "output_type": "stream",
     "text": [
      "0.5437092504370447 ( 0.057414823788663194 )\n"
     ]
    },
    {
     "name": "stderr",
     "output_type": "stream",
     "text": [
      "C:\\Users\\HARDTACK\\Anaconda3\\lib\\site-packages\\sklearn\\discriminant_analysis.py:388: UserWarning: Variables are collinear.\n",
      "  warnings.warn(\"Variables are collinear.\")\n",
      "C:\\Users\\HARDTACK\\Anaconda3\\lib\\site-packages\\sklearn\\discriminant_analysis.py:388: UserWarning: Variables are collinear.\n",
      "  warnings.warn(\"Variables are collinear.\")\n",
      "C:\\Users\\HARDTACK\\Anaconda3\\lib\\site-packages\\sklearn\\discriminant_analysis.py:388: UserWarning: Variables are collinear.\n",
      "  warnings.warn(\"Variables are collinear.\")\n",
      "C:\\Users\\HARDTACK\\Anaconda3\\lib\\site-packages\\sklearn\\discriminant_analysis.py:388: UserWarning: Variables are collinear.\n",
      "  warnings.warn(\"Variables are collinear.\")\n",
      "C:\\Users\\HARDTACK\\Anaconda3\\lib\\site-packages\\sklearn\\discriminant_analysis.py:442: UserWarning: The priors do not sum to 1. Renormalizing\n",
      "  UserWarning)\n",
      "C:\\Users\\HARDTACK\\Anaconda3\\lib\\site-packages\\sklearn\\discriminant_analysis.py:388: UserWarning: Variables are collinear.\n",
      "  warnings.warn(\"Variables are collinear.\")\n"
     ]
    },
    {
     "name": "stdout",
     "output_type": "stream",
     "text": [
      "0.5939849293086713 ( 0.008801958817017072 )\n"
     ]
    },
    {
     "name": "stderr",
     "output_type": "stream",
     "text": [
      "C:\\Users\\HARDTACK\\Anaconda3\\lib\\site-packages\\sklearn\\discriminant_analysis.py:682: UserWarning: Variables are collinear\n",
      "  warnings.warn(\"Variables are collinear\")\n",
      "C:\\Users\\HARDTACK\\Anaconda3\\lib\\site-packages\\sklearn\\discriminant_analysis.py:682: UserWarning: Variables are collinear\n",
      "  warnings.warn(\"Variables are collinear\")\n",
      "C:\\Users\\HARDTACK\\Anaconda3\\lib\\site-packages\\sklearn\\discriminant_analysis.py:682: UserWarning: Variables are collinear\n",
      "  warnings.warn(\"Variables are collinear\")\n",
      "C:\\Users\\HARDTACK\\Anaconda3\\lib\\site-packages\\sklearn\\discriminant_analysis.py:682: UserWarning: Variables are collinear\n",
      "  warnings.warn(\"Variables are collinear\")\n",
      "C:\\Users\\HARDTACK\\Anaconda3\\lib\\site-packages\\sklearn\\discriminant_analysis.py:682: UserWarning: Variables are collinear\n",
      "  warnings.warn(\"Variables are collinear\")\n",
      "C:\\Users\\HARDTACK\\Anaconda3\\lib\\site-packages\\sklearn\\discriminant_analysis.py:682: UserWarning: Variables are collinear\n",
      "  warnings.warn(\"Variables are collinear\")\n",
      "C:\\Users\\HARDTACK\\Anaconda3\\lib\\site-packages\\sklearn\\discriminant_analysis.py:682: UserWarning: Variables are collinear\n",
      "  warnings.warn(\"Variables are collinear\")\n",
      "C:\\Users\\HARDTACK\\Anaconda3\\lib\\site-packages\\sklearn\\discriminant_analysis.py:682: UserWarning: Variables are collinear\n",
      "  warnings.warn(\"Variables are collinear\")\n",
      "C:\\Users\\HARDTACK\\Anaconda3\\lib\\site-packages\\sklearn\\discriminant_analysis.py:682: UserWarning: Variables are collinear\n",
      "  warnings.warn(\"Variables are collinear\")\n",
      "C:\\Users\\HARDTACK\\Anaconda3\\lib\\site-packages\\sklearn\\discriminant_analysis.py:682: UserWarning: Variables are collinear\n",
      "  warnings.warn(\"Variables are collinear\")\n",
      "C:\\Users\\HARDTACK\\Anaconda3\\lib\\site-packages\\sklearn\\discriminant_analysis.py:682: UserWarning: Variables are collinear\n",
      "  warnings.warn(\"Variables are collinear\")\n",
      "C:\\Users\\HARDTACK\\Anaconda3\\lib\\site-packages\\sklearn\\discriminant_analysis.py:682: UserWarning: Variables are collinear\n",
      "  warnings.warn(\"Variables are collinear\")\n",
      "C:\\Users\\HARDTACK\\Anaconda3\\lib\\site-packages\\sklearn\\discriminant_analysis.py:682: UserWarning: Variables are collinear\n",
      "  warnings.warn(\"Variables are collinear\")\n",
      "C:\\Users\\HARDTACK\\Anaconda3\\lib\\site-packages\\sklearn\\discriminant_analysis.py:682: UserWarning: Variables are collinear\n",
      "  warnings.warn(\"Variables are collinear\")\n",
      "C:\\Users\\HARDTACK\\Anaconda3\\lib\\site-packages\\sklearn\\discriminant_analysis.py:682: UserWarning: Variables are collinear\n",
      "  warnings.warn(\"Variables are collinear\")\n",
      "C:\\Users\\HARDTACK\\Anaconda3\\lib\\site-packages\\sklearn\\discriminant_analysis.py:682: UserWarning: Variables are collinear\n",
      "  warnings.warn(\"Variables are collinear\")\n",
      "C:\\Users\\HARDTACK\\Anaconda3\\lib\\site-packages\\sklearn\\discriminant_analysis.py:682: UserWarning: Variables are collinear\n",
      "  warnings.warn(\"Variables are collinear\")\n",
      "C:\\Users\\HARDTACK\\Anaconda3\\lib\\site-packages\\sklearn\\discriminant_analysis.py:682: UserWarning: Variables are collinear\n",
      "  warnings.warn(\"Variables are collinear\")\n",
      "C:\\Users\\HARDTACK\\Anaconda3\\lib\\site-packages\\sklearn\\discriminant_analysis.py:682: UserWarning: Variables are collinear\n",
      "  warnings.warn(\"Variables are collinear\")\n",
      "C:\\Users\\HARDTACK\\Anaconda3\\lib\\site-packages\\sklearn\\discriminant_analysis.py:682: UserWarning: Variables are collinear\n",
      "  warnings.warn(\"Variables are collinear\")\n"
     ]
    },
    {
     "name": "stdout",
     "output_type": "stream",
     "text": [
      "0.553450480906324 ( 0.014404708738140117 )\n",
      "0.590635495351061 ( 0.012406138718797763 )\n",
      "0.6108663639295524 ( 0.0041062863159447354 )\n",
      "0.6647898844389422 ( 0.01027660277072481 )\n"
     ]
    },
    {
     "name": "stderr",
     "output_type": "stream",
     "text": [
      "C:\\Users\\HARDTACK\\Anaconda3\\lib\\site-packages\\sklearn\\preprocessing\\label.py:151: DeprecationWarning: The truth value of an empty array is ambiguous. Returning False, but in future this will result in an error. Use `array.size > 0` to check that an array is not empty.\n",
      "  if diff:\n",
      "C:\\Users\\HARDTACK\\Anaconda3\\lib\\site-packages\\sklearn\\preprocessing\\label.py:151: DeprecationWarning: The truth value of an empty array is ambiguous. Returning False, but in future this will result in an error. Use `array.size > 0` to check that an array is not empty.\n",
      "  if diff:\n",
      "C:\\Users\\HARDTACK\\Anaconda3\\lib\\site-packages\\sklearn\\preprocessing\\label.py:151: DeprecationWarning: The truth value of an empty array is ambiguous. Returning False, but in future this will result in an error. Use `array.size > 0` to check that an array is not empty.\n",
      "  if diff:\n",
      "C:\\Users\\HARDTACK\\Anaconda3\\lib\\site-packages\\sklearn\\preprocessing\\label.py:151: DeprecationWarning: The truth value of an empty array is ambiguous. Returning False, but in future this will result in an error. Use `array.size > 0` to check that an array is not empty.\n",
      "  if diff:\n",
      "C:\\Users\\HARDTACK\\Anaconda3\\lib\\site-packages\\sklearn\\preprocessing\\label.py:151: DeprecationWarning: The truth value of an empty array is ambiguous. Returning False, but in future this will result in an error. Use `array.size > 0` to check that an array is not empty.\n",
      "  if diff:\n"
     ]
    },
    {
     "name": "stdout",
     "output_type": "stream",
     "text": [
      "0.6884047559632039 ( 0.0144985250452257 )\n",
      "0.451462751491044 ( 0.007699240564365477 )\n",
      "0.5615424980287306 ( 0.008899756938278942 )\n",
      "0.6247605102245302 ( 0.010001883489177764 )\n",
      "0.5661949236558389 ( 0.010570137751680466 )\n",
      "0.5426720162712875 ( 0.013170075202487 )\n"
     ]
    },
    {
     "name": "stderr",
     "output_type": "stream",
     "text": [
      "C:\\Users\\HARDTACK\\Anaconda3\\lib\\site-packages\\sklearn\\discriminant_analysis.py:682: UserWarning: Variables are collinear\n",
      "  warnings.warn(\"Variables are collinear\")\n",
      "C:\\Users\\HARDTACK\\Anaconda3\\lib\\site-packages\\sklearn\\discriminant_analysis.py:682: UserWarning: Variables are collinear\n",
      "  warnings.warn(\"Variables are collinear\")\n",
      "C:\\Users\\HARDTACK\\Anaconda3\\lib\\site-packages\\sklearn\\discriminant_analysis.py:682: UserWarning: Variables are collinear\n",
      "  warnings.warn(\"Variables are collinear\")\n",
      "C:\\Users\\HARDTACK\\Anaconda3\\lib\\site-packages\\sklearn\\discriminant_analysis.py:682: UserWarning: Variables are collinear\n",
      "  warnings.warn(\"Variables are collinear\")\n",
      "C:\\Users\\HARDTACK\\Anaconda3\\lib\\site-packages\\sklearn\\discriminant_analysis.py:682: UserWarning: Variables are collinear\n",
      "  warnings.warn(\"Variables are collinear\")\n",
      "C:\\Users\\HARDTACK\\Anaconda3\\lib\\site-packages\\sklearn\\discriminant_analysis.py:682: UserWarning: Variables are collinear\n",
      "  warnings.warn(\"Variables are collinear\")\n",
      "C:\\Users\\HARDTACK\\Anaconda3\\lib\\site-packages\\sklearn\\discriminant_analysis.py:682: UserWarning: Variables are collinear\n",
      "  warnings.warn(\"Variables are collinear\")\n",
      "C:\\Users\\HARDTACK\\Anaconda3\\lib\\site-packages\\sklearn\\discriminant_analysis.py:682: UserWarning: Variables are collinear\n",
      "  warnings.warn(\"Variables are collinear\")\n",
      "C:\\Users\\HARDTACK\\Anaconda3\\lib\\site-packages\\sklearn\\discriminant_analysis.py:682: UserWarning: Variables are collinear\n",
      "  warnings.warn(\"Variables are collinear\")\n",
      "C:\\Users\\HARDTACK\\Anaconda3\\lib\\site-packages\\sklearn\\discriminant_analysis.py:682: UserWarning: Variables are collinear\n",
      "  warnings.warn(\"Variables are collinear\")\n",
      "C:\\Users\\HARDTACK\\Anaconda3\\lib\\site-packages\\sklearn\\discriminant_analysis.py:682: UserWarning: Variables are collinear\n",
      "  warnings.warn(\"Variables are collinear\")\n",
      "C:\\Users\\HARDTACK\\Anaconda3\\lib\\site-packages\\sklearn\\discriminant_analysis.py:682: UserWarning: Variables are collinear\n",
      "  warnings.warn(\"Variables are collinear\")\n",
      "C:\\Users\\HARDTACK\\Anaconda3\\lib\\site-packages\\sklearn\\discriminant_analysis.py:682: UserWarning: Variables are collinear\n",
      "  warnings.warn(\"Variables are collinear\")\n",
      "C:\\Users\\HARDTACK\\Anaconda3\\lib\\site-packages\\sklearn\\discriminant_analysis.py:682: UserWarning: Variables are collinear\n",
      "  warnings.warn(\"Variables are collinear\")\n",
      "C:\\Users\\HARDTACK\\Anaconda3\\lib\\site-packages\\sklearn\\discriminant_analysis.py:682: UserWarning: Variables are collinear\n",
      "  warnings.warn(\"Variables are collinear\")\n",
      "C:\\Users\\HARDTACK\\Anaconda3\\lib\\site-packages\\sklearn\\discriminant_analysis.py:682: UserWarning: Variables are collinear\n",
      "  warnings.warn(\"Variables are collinear\")\n",
      "C:\\Users\\HARDTACK\\Anaconda3\\lib\\site-packages\\sklearn\\discriminant_analysis.py:682: UserWarning: Variables are collinear\n",
      "  warnings.warn(\"Variables are collinear\")\n",
      "C:\\Users\\HARDTACK\\Anaconda3\\lib\\site-packages\\sklearn\\discriminant_analysis.py:682: UserWarning: Variables are collinear\n",
      "  warnings.warn(\"Variables are collinear\")\n",
      "C:\\Users\\HARDTACK\\Anaconda3\\lib\\site-packages\\sklearn\\discriminant_analysis.py:682: UserWarning: Variables are collinear\n",
      "  warnings.warn(\"Variables are collinear\")\n",
      "C:\\Users\\HARDTACK\\Anaconda3\\lib\\site-packages\\sklearn\\discriminant_analysis.py:682: UserWarning: Variables are collinear\n",
      "  warnings.warn(\"Variables are collinear\")\n"
     ]
    },
    {
     "name": "stdout",
     "output_type": "stream",
     "text": [
      "0.553450480906324 ( 0.014404708738140117 )\n"
     ]
    },
    {
     "name": "stderr",
     "output_type": "stream",
     "text": [
      "C:\\Users\\HARDTACK\\Anaconda3\\lib\\site-packages\\sklearn\\preprocessing\\label.py:151: DeprecationWarning: The truth value of an empty array is ambiguous. Returning False, but in future this will result in an error. Use `array.size > 0` to check that an array is not empty.\n",
      "  if diff:\n",
      "C:\\Users\\HARDTACK\\Anaconda3\\lib\\site-packages\\sklearn\\preprocessing\\label.py:151: DeprecationWarning: The truth value of an empty array is ambiguous. Returning False, but in future this will result in an error. Use `array.size > 0` to check that an array is not empty.\n",
      "  if diff:\n",
      "C:\\Users\\HARDTACK\\Anaconda3\\lib\\site-packages\\sklearn\\preprocessing\\label.py:151: DeprecationWarning: The truth value of an empty array is ambiguous. Returning False, but in future this will result in an error. Use `array.size > 0` to check that an array is not empty.\n",
      "  if diff:\n",
      "C:\\Users\\HARDTACK\\Anaconda3\\lib\\site-packages\\sklearn\\preprocessing\\label.py:151: DeprecationWarning: The truth value of an empty array is ambiguous. Returning False, but in future this will result in an error. Use `array.size > 0` to check that an array is not empty.\n",
      "  if diff:\n",
      "C:\\Users\\HARDTACK\\Anaconda3\\lib\\site-packages\\sklearn\\preprocessing\\label.py:151: DeprecationWarning: The truth value of an empty array is ambiguous. Returning False, but in future this will result in an error. Use `array.size > 0` to check that an array is not empty.\n",
      "  if diff:\n"
     ]
    },
    {
     "name": "stdout",
     "output_type": "stream",
     "text": [
      "0.6990655972226631 ( 0.012458497122835328 )\n"
     ]
    },
    {
     "data": {
      "image/png": "[encoded data removed]",
      "text/plain": [
       "<Figure size 432x288 with 1 Axes>"
      ]
     },
     "metadata": {},
     "output_type": "display_data"
    },
    {
     "name": "stdout",
     "output_type": "stream",
     "text": [
      "(14, 3)\n"
     ]
    },
    {
     "data": {
      "text/html": [
       "<div>\n",
       "<style scoped>\n",
       "    .dataframe tbody tr th:only-of-type {\n",
       "        vertical-align: middle;\n",
       "    }\n",
       "\n",
       "    .dataframe tbody tr th {\n",
       "        vertical-align: top;\n",
       "    }\n",
       "\n",
       "    .dataframe thead th {\n",
       "        text-align: right;\n",
       "    }\n",
       "</style>\n",
       "<table border=\"1\" class=\"dataframe\">\n",
       "  <thead>\n",
       "    <tr style=\"text-align: right;\">\n",
       "      <th></th>\n",
       "      <th>model</th>\n",
       "      <th>f1_score</th>\n",
       "      <th>std</th>\n",
       "    </tr>\n",
       "  </thead>\n",
       "  <tbody>\n",
       "    <tr>\n",
       "      <th>13</th>\n",
       "      <td>LGBM</td>\n",
       "      <td>0.699066</td>\n",
       "      <td>0.012458</td>\n",
       "    </tr>\n",
       "    <tr>\n",
       "      <th>6</th>\n",
       "      <td>XGB</td>\n",
       "      <td>0.688405</td>\n",
       "      <td>0.014499</td>\n",
       "    </tr>\n",
       "    <tr>\n",
       "      <th>5</th>\n",
       "      <td>FOR</td>\n",
       "      <td>0.664790</td>\n",
       "      <td>0.010277</td>\n",
       "    </tr>\n",
       "    <tr>\n",
       "      <th>9</th>\n",
       "      <td>AB</td>\n",
       "      <td>0.624761</td>\n",
       "      <td>0.010002</td>\n",
       "    </tr>\n",
       "    <tr>\n",
       "      <th>4</th>\n",
       "      <td>TREE</td>\n",
       "      <td>0.610866</td>\n",
       "      <td>0.004106</td>\n",
       "    </tr>\n",
       "    <tr>\n",
       "      <th>1</th>\n",
       "      <td>LDA</td>\n",
       "      <td>0.593985</td>\n",
       "      <td>0.008802</td>\n",
       "    </tr>\n",
       "    <tr>\n",
       "      <th>3</th>\n",
       "      <td>KNN</td>\n",
       "      <td>0.590635</td>\n",
       "      <td>0.012406</td>\n",
       "    </tr>\n",
       "    <tr>\n",
       "      <th>10</th>\n",
       "      <td>MLP</td>\n",
       "      <td>0.566195</td>\n",
       "      <td>0.010570</td>\n",
       "    </tr>\n",
       "    <tr>\n",
       "      <th>8</th>\n",
       "      <td>SVM</td>\n",
       "      <td>0.561542</td>\n",
       "      <td>0.008900</td>\n",
       "    </tr>\n",
       "    <tr>\n",
       "      <th>2</th>\n",
       "      <td>QDA</td>\n",
       "      <td>0.553450</td>\n",
       "      <td>0.014405</td>\n",
       "    </tr>\n",
       "  </tbody>\n",
       "</table>\n",
       "</div>"
      ],
      "text/plain": [
       "   model  f1_score       std\n",
       "13  LGBM  0.699066  0.012458\n",
       "6    XGB  0.688405  0.014499\n",
       "5    FOR  0.664790  0.010277\n",
       "9     AB  0.624761  0.010002\n",
       "4   TREE  0.610866  0.004106\n",
       "1    LDA  0.593985  0.008802\n",
       "3    KNN  0.590635  0.012406\n",
       "10   MLP  0.566195  0.010570\n",
       "8    SVM  0.561542  0.008900\n",
       "2    QDA  0.553450  0.014405"
      ]
     },
     "execution_count": 220,
     "metadata": {},
     "output_type": "execute_result"
    }
   ],
   "source": [
    "# evaluate each model in turn\n",
    "results = []\n",
    "names = []\n",
    "scores = str()\n",
    "score_list = []\n",
    "scoring = f1_score\n",
    "\n",
    "for name, model in tqdm_notebook(models):\n",
    "    kfold = model_selection.KFold(n_splits = 5, random_state=seed)\n",
    "    cv_results = model_selection.cross_val_score(model, X, Y, cv=kfold, scoring= scoring)\n",
    "    results.append(cv_results)\n",
    "    names.append(name)\n",
    "    f1 = cv_results.mean()\n",
    "    std = cv_results.std()\n",
    "    scores = {'model' : name, 'f1_score' : f1, 'std' :std} \n",
    "    score_list.append(scores)\n",
    "    print(f1, \"(\",std,\")\")\n",
    "\n",
    "\n",
    "# boxplot algorithm comparison\n",
    "fig = plt.figure()\n",
    "fig.suptitle('Algorithm Comparison1')\n",
    "ax = fig.add_subplot(111)\n",
    "plt.boxplot(results)\n",
    "ax.set_xticklabels(names)\n",
    "plt.savefig('compare Models1')\n",
    "plt.show()\n",
    "\n",
    "\n",
    "score_list = pd.DataFrame.from_dict(score_list)\n",
    "score_list = score_list[[\"model\", \"f1_score\", \"std\"]]\n",
    "score_list = score_list.sort_values(by=\"f1_score\", ascending = False)\n",
    "print(score_list.shape)\n",
    "score_list.head(10)"
   ]
  },
  {
   "cell_type": "code",
   "execution_count": null,
   "metadata": {},
   "outputs": [],
   "source": []
  },
  {
   "cell_type": "code",
   "execution_count": null,
   "metadata": {},
   "outputs": [],
   "source": []
  },
  {
   "cell_type": "markdown",
   "metadata": {},
   "source": [
    "# 4. Fit"
   ]
  },
  {
   "cell_type": "code",
   "execution_count": null,
   "metadata": {},
   "outputs": [],
   "source": [
    "model = xgb.XGBClassifier(max_depth = 10, n_estimators=1000, learning_rate = 0.001, seed=37) \n",
    "\n",
    "model"
   ]
  },
  {
   "cell_type": "code",
   "execution_count": null,
   "metadata": {},
   "outputs": [],
   "source": [
    "X_train.shape, X_test.shape"
   ]
  },
  {
   "cell_type": "code",
   "execution_count": null,
   "metadata": {},
   "outputs": [],
   "source": [
    "y_train.shape"
   ]
  },
  {
   "cell_type": "code",
   "execution_count": null,
   "metadata": {
    "scrolled": false
   },
   "outputs": [],
   "source": [
    "%%time\n",
    "## 3시간 48분\n",
    "## 3시간 47분\n",
    "\n",
    "model.fit(X_train, y_train)"
   ]
  },
  {
   "cell_type": "markdown",
   "metadata": {},
   "source": [
    "# 5. Importances of Features"
   ]
  },
  {
   "cell_type": "code",
   "execution_count": null,
   "metadata": {},
   "outputs": [],
   "source": [
    "## Model이 골라낸 Feature의 중요도 입니다.\n",
    "## 트리를 형성할 때, 우선 순위를 결정한다고 생각하시면 되겠습니다. "
   ]
  },
  {
   "cell_type": "code",
   "execution_count": null,
   "metadata": {},
   "outputs": [],
   "source": [
    "importances = pd.DataFrame(columns=['feature_names', 'importances'])\n",
    "imp = model.feature_importances_\n",
    "print(len(imp))\n",
    "print(len(feature_names))"
   ]
  },
  {
   "cell_type": "code",
   "execution_count": null,
   "metadata": {},
   "outputs": [],
   "source": [
    "importances[\"feature_names\"] = feature_names[0: len(imp)]\n",
    "importances[\"importances\"] = imp\n",
    "importances = importances.sort_values(by = \"importances\", ascending = False)     ## 내림차순 정렬\n",
    "importances.index = range(len(importances))                                      ## 순서대로 번호 매김\n",
    "importances"
   ]
  },
  {
   "cell_type": "code",
   "execution_count": null,
   "metadata": {},
   "outputs": [],
   "source": [
    "feature_names = importances.loc[importances[\"importances\"] > 0.002, \"feature_names\"].tolist()"
   ]
  },
  {
   "cell_type": "markdown",
   "metadata": {},
   "source": [
    "# 6. Predict"
   ]
  },
  {
   "cell_type": "code",
   "execution_count": null,
   "metadata": {},
   "outputs": [],
   "source": [
    "predictions = model.predict(X_test)\n",
    "predictions"
   ]
  },
  {
   "cell_type": "markdown",
   "metadata": {},
   "source": [
    "# 7. Submission"
   ]
  },
  {
   "cell_type": "code",
   "execution_count": null,
   "metadata": {},
   "outputs": [],
   "source": [
    "test[\"label\"] = str()\n",
    "\n",
    "submission = test[[\"acc_id\", \"label\"]]\n",
    "\n",
    "submission[\"label\"] = predictions\n",
    "\n",
    "submission.to_csv(\"bigcon_Submission.csv\", index = False)"
   ]
  }
 ],
 "metadata": {
  "kernelspec": {
   "display_name": "Python 3",
   "language": "python",
   "name": "python3"
  },
  "language_info": {
   "codemirror_mode": {
    "name": "ipython",
    "version": 3
   },
   "file_extension": ".py",
   "mimetype": "text/x-python",
   "name": "python",
   "nbconvert_exporter": "python",
   "pygments_lexer": "ipython3",
   "version": "3.6.5"
  }
 },
 "nbformat": 4,
 "nbformat_minor": 2
}
